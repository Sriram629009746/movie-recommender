{
  "nbformat": 4,
  "nbformat_minor": 0,
  "metadata": {
    "kernelspec": {
      "display_name": "Python 3",
      "language": "python",
      "name": "python3"
    },
    "language_info": {
      "codemirror_mode": {
        "name": "ipython",
        "version": 3
      },
      "file_extension": ".py",
      "mimetype": "text/x-python",
      "name": "python",
      "nbconvert_exporter": "python",
      "pygments_lexer": "ipython3",
      "version": "3.8.5"
    },
    "colab": {
      "provenance": []
    },
    "accelerator": "GPU"
  },
  "cells": [
    {
      "cell_type": "markdown",
      "source": [
        "## Recommendation with User Ratings (Explicit Feedback)\n",
        "\n",
        "We focus on the rating prediction recommendation task with explicit feedback. We will:\n",
        "\n",
        "* load and process the MovieLens 1M dataset,\n",
        "* build a baseline estimation model,\n",
        "* build a collaborative filtering model,\n",
        "* build a matrix factorization model,\n",
        "* and try to improve upon these models.\n",
        "\n",
        "First, we need to load and preprocess the experiment dataset. We use the MovieLens 1M data from https://grouplens.org/datasets/movielens/1m/ in this homework. The code has been provided in the next cell, and you need to run it. The resulting data variables are: train_mat is the numpy array variable for training data of size (#users, #items) with non-zero entries representing user-item ratings, and zero entries representing unknown user-item ratings; and test_mat is the numpy array variable for testing data of size (#users, #items)."
      ],
      "metadata": {
        "id": "-WYe8-gUukM9"
      }
    },
    {
      "cell_type": "code",
      "source": [
        "# if you're using colab, this is a clunky way to load the ratings.dat file we need\n",
        "# navigate in your finder to ratings.dat when asked\n",
        "from google.colab import files\n",
        "uploaded = files.upload()"
      ],
      "metadata": {
        "id": "Y2Lw1dJmaTFg",
        "colab": {
          "base_uri": "https://localhost:8080/",
          "height": 73,
          "resources": {
            "http://localhost:8080/nbextensions/google.colab/files.js": {
              "data": "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",
              "ok": true,
              "headers": [
                [
                  "content-type",
                  "application/javascript"
                ]
              ],
              "status": 200,
              "status_text": ""
            }
          }
        },
        "outputId": "73ae442a-dfc9-4ae6-8149-b884616ea27f"
      },
      "execution_count": null,
      "outputs": [
        {
          "output_type": "display_data",
          "data": {
            "text/plain": [
              "<IPython.core.display.HTML object>"
            ],
            "text/html": [
              "\n",
              "     <input type=\"file\" id=\"files-71e40689-4fc6-4b1c-b61d-79bb44d0be2b\" name=\"files[]\" multiple disabled\n",
              "        style=\"border:none\" />\n",
              "     <output id=\"result-71e40689-4fc6-4b1c-b61d-79bb44d0be2b\">\n",
              "      Upload widget is only available when the cell has been executed in the\n",
              "      current browser session. Please rerun this cell to enable.\n",
              "      </output>\n",
              "      <script src=\"/nbextensions/google.colab/files.js\"></script> "
            ]
          },
          "metadata": {}
        },
        {
          "output_type": "stream",
          "name": "stdout",
          "text": [
            "Saving ratings.dat to ratings.dat\n"
          ]
        }
      ]
    },
    {
      "cell_type": "code",
      "source": [
        "import io\n",
        "import pandas as pd\n",
        "import numpy as np\n",
        "import sklearn\n",
        "from scipy.sparse import coo_matrix\n",
        "\n",
        "data_df = pd.read_csv(io.BytesIO(uploaded['ratings.dat']), sep='::', names=[\"UserID\", \"MovieID\", \"Rating\", \"Timestamp\"])\n",
        "\n",
        "# if you are running this notebook locally, you can replace above with something like this:\n",
        "# data_df = pd.read_csv('./ratings.dat', sep='::', names=[\"UserID\", \"MovieID\", \"Rating\", \"Timestamp\"])\n",
        "\n",
        "# First, generate dictionaries for mapping old id to new id for users and movies\n",
        "unique_MovieID = data_df['MovieID'].unique()\n",
        "unique_UserID = data_df['UserID'].unique()\n",
        "j = 0\n",
        "user_old2new_id_dict = dict()\n",
        "for u in unique_UserID:\n",
        "    user_old2new_id_dict[u] = j\n",
        "    j += 1\n",
        "j = 0\n",
        "movie_old2new_id_dict = dict()\n",
        "for i in unique_MovieID:\n",
        "    movie_old2new_id_dict[i] = j\n",
        "    j += 1\n",
        "\n",
        "# Then, use the generated dictionaries to reindex UserID and MovieID in the data_df\n",
        "user_list = data_df['UserID'].values\n",
        "movie_list = data_df['MovieID'].values\n",
        "for j in range(len(data_df)):\n",
        "    user_list[j] = user_old2new_id_dict[user_list[j]]\n",
        "    movie_list[j] = movie_old2new_id_dict[movie_list[j]]\n",
        "data_df['UserID'] = user_list\n",
        "data_df['movieID'] = movie_list\n",
        "\n",
        "# generate train_df with 70% samples and test_df with 30% samples, and there should have no overlap between them.\n",
        "train_index = np.random.random(len(data_df)) <= 0.7\n",
        "train_df = data_df[train_index]\n",
        "test_df = data_df[~train_index]\n",
        "\n",
        "# generate train_mat and test_mat\n",
        "num_user = len(data_df['UserID'].unique())\n",
        "num_movie = len(data_df['MovieID'].unique())\n",
        "\n",
        "train_mat = coo_matrix((train_df['Rating'].values, (train_df['UserID'].values, train_df['MovieID'].values)), shape=(num_user, num_movie)).astype(float).toarray()\n",
        "test_mat = coo_matrix((test_df['Rating'].values, (test_df['UserID'].values, test_df['MovieID'].values)), shape=(num_user, num_movie)).astype(float).toarray()"
      ],
      "metadata": {
        "id": "E1h-s3WsacVs",
        "colab": {
          "base_uri": "https://localhost:8080/"
        },
        "outputId": "958894bb-7928-415c-c4e9-0917ba1eb8de"
      },
      "execution_count": null,
      "outputs": [
        {
          "output_type": "stream",
          "name": "stderr",
          "text": [
            "/usr/local/lib/python3.7/dist-packages/pandas/util/_decorators.py:311: ParserWarning: Falling back to the 'python' engine because the 'c' engine does not support regex separators (separators > 1 char and different from '\\s+' are interpreted as regex); you can avoid this warning by specifying engine='python'.\n",
            "  return func(*args, **kwargs)\n"
          ]
        }
      ]
    },
    {
      "cell_type": "markdown",
      "source": [
        "## Build the Baseline Estimation Model\n",
        "\n",
        "First, let's implement a simple personalized recommendation model -- the baseline estimate -- introduced in class: $b_{u,i}=\\mu+b_i+b_u$, where $\\mu$ is the overall mean rating for all items, $b_u$ = average rating of user $u-\\mu$, $b_i$ = average rating of item $i-\\mu$. Store your prediction as a numpy array variable 'prediction_mat' of size (#users, #movies) with each entry showing the predicted rating for the corresponding user-movie pair.\n",
        "\n",
        "* Hint: for users who do not have ratings in train_mat, set $b_u=0$ for them; and for movies which do not have ratings in train_mat, set $b_i=0$ for them"
      ],
      "metadata": {
        "id": "hI_D_HSXzbaK"
      }
    },
    {
      "cell_type": "code",
      "source": [
        "# calculate the prediction_mat by the baseline estimation recommendation algorithm\n",
        "# Your Code Here..\n",
        "total_non_zero = np.sum(train_mat)\n",
        "total_non_zero_count = np.count_nonzero(train_mat)\n",
        "overall_mean = total_non_zero/total_non_zero_count\n",
        "print(overall_mean)\n",
        "\n",
        "#sum of cols of train_mat\n",
        "colsum = np.matmul(train_mat, (np.ones(train_mat.shape[1])).reshape(-1,1))\n",
        "nonzero_count_cols = np.zeros(train_mat.shape[0])\n",
        "j=0\n",
        "for row in train_mat:\n",
        "  nonzero_count_cols[j] = np.count_nonzero(row)\n",
        "  j=j+1\n",
        "\n",
        "user_avg_rating = np.zeros(train_mat.shape[0])\n",
        "for i in range(train_mat.shape[0]):\n",
        "  if(nonzero_count_cols[i]>0):\n",
        "    user_avg_rating[i] = colsum[i]/nonzero_count_cols[i]\n",
        "\n",
        "\n",
        "#sum of rows of train_mat\n",
        "rowsum = np.matmul((np.ones(train_mat.shape[0])).reshape(1,-1), train_mat)\n",
        "nonzero_count_rows = np.zeros(train_mat.shape[1])\n"
      ],
      "metadata": {
        "id": "SHqawSeQzpR_",
        "colab": {
          "base_uri": "https://localhost:8080/"
        },
        "outputId": "461bd2de-08b5-4026-d2a3-9ab5879602e1"
      },
      "execution_count": null,
      "outputs": [
        {
          "output_type": "stream",
          "name": "stdout",
          "text": [
            "3.5816168552388405\n"
          ]
        }
      ]
    },
    {
      "cell_type": "code",
      "source": [
        "j=0\n",
        "for row in np.transpose(train_mat):\n",
        "  nonzero_count_rows[j] = np.count_nonzero(row)\n",
        "  j=j+1\n",
        "rowsum = np.transpose(rowsum)\n",
        "movie_avg_rating = np.zeros(train_mat.shape[1])\n",
        "for i in range(train_mat.shape[1]):\n",
        "  if(nonzero_count_rows[i]>0):\n",
        "    movie_avg_rating[i] = rowsum[i]/nonzero_count_rows[i]"
      ],
      "metadata": {
        "id": "GeCwhAN3I5Oq"
      },
      "execution_count": null,
      "outputs": []
    },
    {
      "cell_type": "code",
      "source": [
        "row_indices = []\n",
        "col_indices = []\n",
        "predictions = []\n",
        "for row in range(train_mat.shape[0]):\n",
        "  for col in range(train_mat.shape[1]):\n",
        "    if(train_mat[row,col]== 0):\n",
        "      row_indices.append(row)\n",
        "      col_indices.append(col)\n",
        "      if(user_avg_rating[row] == 0):\n",
        "        bu = 0\n",
        "      else:\n",
        "        bu = user_avg_rating[row] - overall_mean\n",
        "      if(user_avg_rating[col] == 0):\n",
        "        bm = 0\n",
        "      else:\n",
        "        bm = movie_avg_rating[col] - overall_mean\n",
        "      pred = overall_mean + bu + bm\n",
        "      predictions.append(pred)\n",
        "\n",
        "baseline_prediction_mat = coo_matrix((np.array(predictions), (np.array(row_indices), np.array(col_indices))), shape=(num_user, num_movie)).astype(float).toarray()"
      ],
      "metadata": {
        "id": "EpOToWY1GzlI"
      },
      "execution_count": null,
      "outputs": []
    },
    {
      "cell_type": "markdown",
      "source": [
        "Now, with this prediction_mat based on the baseline estimate, let's calculate the RMSE to evaluate the quality of the baseline estimate model. Please print out the RMSE of your prediction_mat using test_mat in the next cell.\n"
      ],
      "metadata": {
        "id": "IXRS-CC_zpuT"
      }
    },
    {
      "cell_type": "code",
      "source": [
        "# calculate and print out the RMSE for your prediction_df and the test_df\n",
        "# Your Code Here...\n",
        "rmse = 0\n",
        "count = 0\n",
        "for i in range(len(row_indices)):\n",
        "  if(test_mat[row_indices[i],col_indices[i]]!=0):\n",
        "    rmse= rmse + np.square((baseline_prediction_mat[row_indices[i],col_indices[i]]-test_mat[row_indices[i],col_indices[i]]))\n",
        "    count=count+1\n",
        "\n",
        "rmse = rmse/count\n",
        "rmse = np.sqrt(rmse)\n",
        "print(rmse)\n"
      ],
      "metadata": {
        "id": "sqMsJrtTzr8f",
        "colab": {
          "base_uri": "https://localhost:8080/"
        },
        "outputId": "7813d831-2f3d-4e87-b927-99bfb885fdfa"
      },
      "execution_count": null,
      "outputs": [
        {
          "output_type": "stream",
          "name": "stdout",
          "text": [
            "0.9377966535513562\n"
          ]
        }
      ]
    },
    {
      "cell_type": "markdown",
      "source": [
        "## Collaborative Filtering with Jaccard Similarity\n",
        "\n",
        "In this part, you need to build a collaborative filtering recommendation model with **Jaccard similarity** to predict user-movie ratings.\n",
        "\n",
        "The prediction of the score for a user-item pair $(u,i)$ should use the formulation: $p_{u,i}=\\bar{r}_u+\\frac{\\sum_{u^\\prime\\in N}s(u,u^\\prime)(r_{u^\\prime,i}-\\bar{r}_{u^\\prime})}{\\sum_{u^\\prime\\in N}|s(u, u^\\prime)|}$ as introduced in class, where $s(u, u^\\prime)$ is the Jaccard similarity. We set the size of $N$ as 10.\n",
        "\n",
        "In the next cell, you need to write your code to implement this algorithm, and generate a numpy array variable named 'prediction_mat' of size (#user, #movie) with each entry showing the predicted rating for the corresponding user-movie pair.\n",
        "\n",
        "* Hint: when you find the nearest neighbor set $N$ of a user $u$, do not include user $u$ in $N$  \n"
      ],
      "metadata": {
        "id": "3V_S-DXXztyu"
      }
    },
    {
      "cell_type": "code",
      "source": [
        "# calculate the prediction_mat by your user-user collaborative filtering recommendation algorithm\n",
        "# Your Code Here...\n",
        "\n",
        "#computing the jaccard similarities\n",
        "binarized_train_mat = np.zeros_like(train_mat)\n",
        "for i in range(train_mat.shape[0]):\n",
        "  for j in range(train_mat.shape[1]):\n",
        "    if(train_mat[i,j]>0):\n",
        "      binarized_train_mat[i,j]=1\n",
        "\n",
        "pred_row_indices = test_df['UserID'].values\n",
        "pred_col_indices = test_df['MovieID'].values\n",
        "\n"
      ],
      "metadata": {
        "id": "Sxf9YBSDz3Gm"
      },
      "execution_count": null,
      "outputs": []
    },
    {
      "cell_type": "markdown",
      "source": [
        "Please print out the RMSE of your prediction_mat using test_mat in the next cell."
      ],
      "metadata": {
        "id": "jrtLUo75z3kx"
      }
    },
    {
      "cell_type": "code",
      "source": [
        "# calculate and print out the RMSE for your prediction_df and the test_df"
      ],
      "metadata": {
        "id": "cAn9BwQ8z50h"
      },
      "execution_count": 1,
      "outputs": []
    },
    {
      "cell_type": "markdown",
      "source": [
        "Comparing the RMSE results of this collaborative filtering and the baseline estimate algorithm, what do you observe? Is the  collaborative filtering the one producing the best performance? What reasons do you think can explain what you observe?"
      ],
      "metadata": {
        "id": "kANk-3sez7bo"
      }
    },
    {
      "cell_type": "code",
      "source": [
        "intersection_matrix = np.dot(binarized_train_mat, binarized_train_mat.T)"
      ],
      "metadata": {
        "id": "zfVQiY8_b5aV"
      },
      "execution_count": null,
      "outputs": []
    },
    {
      "cell_type": "code",
      "source": [
        "colsum = np.matmul(train_mat, (np.ones(train_mat.shape[1])).reshape(-1,1))"
      ],
      "metadata": {
        "id": "3R3qtmBE8Cl2"
      },
      "execution_count": null,
      "outputs": []
    },
    {
      "cell_type": "code",
      "source": [
        "jaccard_matrix = intersection_matrix\n",
        "for i in range(train_mat.shape[0]):\n",
        "  for j in range(train_mat.shape[0]):\n",
        "    jaccard_matrix[i,j] = intersection_matrix[i,j]/(colsum[i]+colsum[j]-intersection_matrix[i,j])\n"
      ],
      "metadata": {
        "id": "D2bbSTV78P7H"
      },
      "execution_count": null,
      "outputs": []
    },
    {
      "cell_type": "code",
      "source": [
        "row_indices = []\n",
        "col_indices = []\n",
        "predictions = []\n",
        "\n",
        "for user_row in train_mat:\n",
        "  for movie in user\n",
        "#for i in range(len(pred_col_indices)):\n",
        "\n",
        "  movie = pred_col_indices[i]\n",
        "  #user = pred_row_indices[i]\n",
        "\n",
        "  ru = user_avg_rating[user]\n",
        "  user_jaccard_dict = {}\n",
        "  for u in range(train_mat.shape[0]):\n",
        "    if(user!=u):\n",
        "      user_jaccard_dict[u] = jaccard_matrix[user,u]\n",
        "  user_jaccard_dict = sorted(user_jaccard_dict.items(), key=lambda x: x[1], reverse=True)\n",
        "  top10_similarities = np.array(user_jaccard_dict[:10]).T[1]\n",
        "\n",
        "  #print(top10_similarities)\n",
        "  nearest10_users = np.array(user_jaccard_dict[:10]).T[0]\n",
        "  denom = 0\n",
        "  dev_sum = 0\n",
        "  for nu in nearest10_users:\n",
        "    nu = int(nu)\n",
        "    if(train_mat[nu,movie]!=0):\n",
        "      denom += jaccard_matrix[user, nu]\n",
        "      dev_sum+= jaccard_matrix[user, nu]*(train_mat[nu,movie]-user_avg_rating[nu])\n",
        "  #print(denom)\n",
        "  deviation = 0\n",
        "  if(denom !=0):#if atleast one of the nearest neighbors has rated this movie\n",
        "    deviation = dev_sum/denom\n",
        "  pred = ru + deviation\n",
        "\n",
        "  row_indices.append(user)\n",
        "  col_indices.append(movie)\n",
        "  predictions.append(pred)\n",
        "\n",
        "CF_prediction_mat = coo_matrix((np.array(predictions), (np.array(row_indices), np.array(col_indices))), shape=(num_user, num_movie)).astype(float).toarray()\n",
        "\n",
        ""
      ],
      "metadata": {
        "id": "N54MwKMpoorF"
      },
      "execution_count": null,
      "outputs": []
    },
    {
      "cell_type": "code",
      "source": [
        "row_indices = []\n",
        "col_indices = []\n",
        "predictions = []\n",
        "for i in range(len(pred_col_indices)):\n",
        "\n",
        "  movie = pred_col_indices[i]\n",
        "  user = pred_row_indices[i]\n",
        "\n",
        "  ru = user_avg_rating[user]\n",
        "  user_jaccard_dict = {}\n",
        "  for u in range(train_mat.shape[0]):\n",
        "    if(user!=u):\n",
        "      user_jaccard_dict[u] = jaccard_matrix[user,u]\n",
        "  user_jaccard_dict = sorted(user_jaccard_dict.items(), key=lambda x: x[1], reverse=True)\n",
        "  top10_similarities = np.array(user_jaccard_dict[:10]).T[1]\n",
        "\n",
        "  #print(top10_similarities)\n",
        "  nearest10_users = np.array(user_jaccard_dict[:10]).T[0]\n",
        "  denom = 0\n",
        "  dev_sum = 0\n",
        "  for nu in nearest10_users:\n",
        "    nu = int(nu)\n",
        "    if(train_mat[nu,movie]!=0):\n",
        "      denom += jaccard_matrix[user, nu]\n",
        "      dev_sum+= jaccard_matrix[user, nu]*(train_mat[nu,movie]-user_avg_rating[nu])\n",
        "  #print(denom)\n",
        "  deviation = 0\n",
        "  if(denom !=0):#if atleast one of the nearest neighbors has rated this movie\n",
        "    deviation = dev_sum/denom\n",
        "  pred = ru + deviation\n",
        "\n",
        "  row_indices.append(user)\n",
        "  col_indices.append(movie)\n",
        "  predictions.append(pred)\n",
        "\n",
        "CF_prediction_mat = coo_matrix((np.array(predictions), (np.array(row_indices), np.array(col_indices))), shape=(num_user, num_movie)).astype(float).toarray()\n",
        "\n",
        ""
      ],
      "metadata": {
        "id": "X82NHDKKA--B"
      },
      "execution_count": null,
      "outputs": []
    },
    {
      "cell_type": "code",
      "source": [
        "rmse = 0\n",
        "count = 0\n",
        "for i in range(len(row_indices)):\n",
        "  if(test_mat[pred_row_indices[i],pred_col_indices[i]]!=0):\n",
        "    rmse= rmse + np.square((CF_prediction_mat[row_indices[i],col_indices[i]]-test_mat[row_indices[i],col_indices[i]]))\n",
        "    count=count+1\n",
        "\n",
        "rmse = rmse/count\n",
        "rmse = np.sqrt(rmse)\n",
        "print(rmse)"
      ],
      "metadata": {
        "colab": {
          "base_uri": "https://localhost:8080/"
        },
        "id": "TT_Y3qf1FrXq",
        "outputId": "91d36420-702f-4f38-9211-f47c5debd49c"
      },
      "execution_count": null,
      "outputs": [
        {
          "output_type": "stream",
          "name": "stdout",
          "text": [
            "1.0712340971420589\n"
          ]
        }
      ]
    },
    {
      "cell_type": "markdown",
      "source": [
        "Comparing the RMSE results of this collaborative filtering and the baseline estimate algorithm, what do you observe? Is the  collaborative filtering the one producing the best performance? What reasons do you think can explain what you observe?"
      ],
      "metadata": {
        "id": "AGAKWaqq3YhL"
      }
    },
    {
      "cell_type": "markdown",
      "source": [
        "**Answer:** RMSE of baseline estimate algorithm is lower than that of collaborative filtering. Thus, in this case, Baseline estimate algorithm gives the best performance. This could be due to fewer number of neighbors considered in collaborative filtering while calculating the nearest neighbors."
      ],
      "metadata": {
        "id": "rdR-FzXk0BN9"
      }
    },
    {
      "cell_type": "markdown",
      "source": [
        "## Matrix Factorization\n",
        "\n",
        "Now we turn to matrix factorization. First, let's implement the matrix factorization (MF for short) model introduced in class. The MF model can be mathematically represented as:\n",
        "\n",
        "<center>$\\underset{\\mathbf{P},\\mathbf{Q}}{\\text{min}}\\,\\,L=\\sum_{(u,i)\\in\\mathcal{O}}(\\mathbf{P}_u\\cdot\\mathbf{Q}^\\top_i-r_{u,i})^2+\\lambda(\\lVert\\mathbf{P}\\rVert^2_{\\text{F}}+\\lVert\\mathbf{Q}\\rVert^2_{\\text{F}})$,</center>\n",
        "    \n",
        "where $\\mathbf{P}$ is the user latent factor matrix of size (#user, #latent); $\\mathbf{Q}$ is the movie latent factor matrix of size (#movie, #latent); $\\mathcal{O}$ is a user-movie pair set containing all user-movie pairs having ratings in train_mat; $r_{u,i}$ represents the rating for user u and movie i; $\\lambda(\\lVert\\mathbf{P}\\rVert^2_{\\text{F}}+\\lVert\\mathbf{Q}\\rVert^2_{\\text{F}})$ is the regularization term to overcome overfitting problem, $\\lambda$ is the regularization weight (a hyper-parameter manually set by developer, i.e., you), and $\\lVert\\mathbf{P}\\rVert^2_{\\text{F}}=\\sum_{x}\\sum_{y}(\\mathbf{P}_{x,y})^2$, $\\lVert\\mathbf{Q}\\rVert^2_{\\text{F}}=\\sum_{x}\\sum_{y}(\\mathbf{Q}_{x,y})^2$. Such an L function is called the **loss function** for the matrix factorization model. The goal of training an MF model is to find appropriate $\\mathbf{P}$ and $\\mathbf{Q}$ to minimize the loss L.\n",
        "\n",
        "To implement such an MF, here we will write a Python class for the model. There are three functions in this MF class: init, train, and predict.\n",
        "\n",
        "* The 'init' function (**already provided**) is to initialize the variables the MF class needs, which takes 5 inputs: train_mat, test_mat, latent, lr, and reg. 'train_mat' and 'test_mat' are the corresponfing training and testing matrices we have. 'latent' represents the latent dimension we set for the MF model. 'lr' represents the learning rate, i.e., the update step in each optimization iteration, default is 0.01. 'reg' represents the regularization weight, i.e., the $\\lambda$ in the MF formulation.\n",
        "\n",
        "* The 'train' function (**partially provided and need to complete**) is to train the MF model given the training data train_mat. There is only one input to this function: an int variable 'epoch' to indicate how many epochs for training the model. The main body of this function should be a loop for 'epoch' iterations. In each iteration, following the algorithm to update the MF model:\n",
        "\n",
        "        1. Randomly shuffle training user-movie pairs  (i.e., user-movie pairs having ratings in train_mat)\n",
        "        2. Have an inner loop to iterate each user-movie pair:\n",
        "                a. given a user-movie pair (u,i), update the user latent factor and movie latent factor by gradient decsent:    \n",
        "<center>$\\mathbf{P}_u=\\mathbf{P}_u-\\gamma [2(\\mathbf{P}_u\\cdot\\mathbf{Q}_i^\\top-r_{u,i})\\cdot\\mathbf{Q}_i+2\\lambda\\mathbf{P}_u]$</center>    \n",
        "<center>$\\mathbf{Q}_i=\\mathbf{Q}_i-\\gamma [2(\\mathbf{P}_u\\cdot\\mathbf{Q}_i^\\top-r_{u,i})\\cdot\\mathbf{P}_u+2\\lambda\\mathbf{Q}_i]$</center>    \n",
        "<center>where $\\mathbf{P}_u$ and $\\mathbf{Q}_i$ are row vectors of size (1, #latent), $\\gamma$ is learning rate (default is 0.01), $\\lambda$ is regularization weight.</center>\n",
        "        \n",
        "        3. After iterating over all user-movie pairs, we have finished the training for the current epoch. Now calculate and print out the value of the loss function L after this epoch, and the RMSE on test_mat by the current MF model. Then append them to lists to keep a record of them.\n",
        "The train function needs to return two lists: 'epoch_loss_list' recording the loss after each training epoch, and 'epoch_test_RMSE_list' recording the RMSE on test_mat after each training epoch.\n",
        "\n",
        "* The 'predict' function (**already provided**) is to calculate the prediction_mat by the learned $\\mathbf{P}$ and $\\mathbf{Q}$.\n",
        "\n",
        "In the next cell, we provide the 'init' and 'predict' functions. You will need to fill in the 'train' function based on the description above."
      ],
      "metadata": {
        "id": "6GCbSqrZ1PwQ"
      }
    },
    {
      "cell_type": "code",
      "source": [
        "class MF:\n",
        "    def __init__(self, train_mat, test_mat, latent=5, lr=0.01, reg=0.01):\n",
        "        self.train_mat = train_mat  # the training rating matrix of size (#user, #movie)\n",
        "        self.test_mat = test_mat  # the training rating matrix of size (#user, #movie)\n",
        "\n",
        "        self.latent = latent  # the latent dimension\n",
        "        self.lr = lr  # learning rate\n",
        "        self.reg = reg  # regularization weight, i.e., the lambda in the objective function\n",
        "\n",
        "        self.num_user, self.num_movie = train_mat.shape\n",
        "\n",
        "        self.sample_user, self.sample_movie = self.train_mat.nonzero()  # get the user-movie paris having ratings in train_mat\n",
        "        self.num_sample = len(self.sample_user)  # the number of user-movie pairs having ratings in train_mat\n",
        "\n",
        "        self.train_indicator_mat = 1.0 * (train_mat > 0)  # binary matrix to indicate whether s user-movie pair has rating or not in train_mat\n",
        "        self.test_indicator_mat = 1.0 * (test_mat > 0)  # binary matrix to indicate whether s user-movie pair has rating or not in test_mat\n",
        "\n",
        "        self.P = np.random.random((self.num_user, self.latent))  # latent factors for users, size (#user, self.latent), randomly initialized\n",
        "        self.Q = np.random.random((self.num_movie, self.latent))  # latent factors for users, size (#movie, self.latent), randomly initialized\n",
        "\n",
        "    def train(self, epoch=20, verbose=True):\n",
        "        \"\"\"\n",
        "        Goal: Write your code to train your matrix factorization model for epoch iterations in this function\n",
        "        Input: epoch -- the number of training epoch\n",
        "        Output: epoch_loss_list -- a list recording the training loss for each epoch\n",
        "                epoch_test_RMSE_list -- a list recording the testing RMSE after each training epoch\n",
        "        \"\"\"\n",
        "        epoch_loss_list = []\n",
        "        epoch_test_RMSE_list = []\n",
        "\n",
        "        #train_data = []\n",
        "        #for i in range(self.num_sample):#self.sample_user, self.sample_movie\n",
        "        # train_data.append([self.sample_user, self.sample_movie, self.train_mat[self.sample_user, self.sample_movie]])\n",
        "\n",
        "\n",
        "        test_users, test_movies = self.test_mat.nonzero()\n",
        "\n",
        "        for ep in range(epoch):\n",
        "            \"\"\"\n",
        "            Write your code here to implement the training process for one epoch,\n",
        "            and at the end of each epoch, print out the epoch number, the training loss after this epoch,\n",
        "            and the test RMSE after this epoch\n",
        "            \"\"\"\n",
        "            #np.random.shuffle(train_data)\n",
        "            shuffled = sklearn.utils.shuffle(self.sample_user, self.sample_movie)\n",
        "            train_data = zip(shuffled[0],shuffled[1])\n",
        "            for user,movie in train_data:\n",
        "              predicted_rating = np.dot(self.P[user], (self.Q[movie]).T)\n",
        "              actual_rating = train_mat[user,movie]\n",
        "              Pu = self.P[user].copy()\n",
        "              Qi = self.Q[movie].copy()\n",
        "              self.P[user] = Pu - self.lr*(2*(predicted_rating - actual_rating)*Qi + 2*self.reg * Pu)\n",
        "              self.Q[movie] = Qi - self.lr*(2*(predicted_rating - actual_rating)*Pu + 2*self.reg * Qi)\n",
        "\n",
        "            user_ids,movie_ids=self.train_mat.nonzero()\n",
        "            train_data = zip(shuffled[0],shuffled[1])\n",
        "            cnt=0\n",
        "            loss = 0.0\n",
        "            for user,movie in train_data:\n",
        "              predicted_rating = np.dot(self.P[user], (self.Q[movie]).T)\n",
        "              actual_rating = train_mat[user,movie]\n",
        "              loss = loss + np.square((predicted_rating - actual_rating))\n",
        "\n",
        "            loss = loss + self.reg*(np.square(np.linalg.norm(self.P,'fro'))+np.square(np.linalg.norm(self.Q,'fro')))\n",
        "            epoch_loss_list.append(loss)\n",
        "\n",
        "            rmse = 0\n",
        "            count_rmse = 0\n",
        "            for test_user,test_movie in zip(test_users, test_movies):\n",
        "              predicted_rating = np.dot(self.P[test_user], (self.Q[test_movie]).T)\n",
        "              rmse += np.square(test_mat[test_user,test_movie]-predicted_rating)\n",
        "              count_rmse += 1\n",
        "\n",
        "            rmse = rmse/count_rmse\n",
        "            rmse = np.sqrt(rmse)\n",
        "            epoch_test_RMSE_list.append(rmse)\n",
        "            print(\"Epoch {} : loss = {} , rmse = {}\".format(ep+1,loss,rmse))\n",
        "\n",
        "            \"\"\"\n",
        "            End of your code for this function\n",
        "            \"\"\"\n",
        "        return epoch_loss_list, epoch_test_RMSE_list\n",
        "\n",
        "\n",
        "    def predict(self):\n",
        "        prediction_mat = np.matmul(self.P, self.Q.T)\n",
        "        return prediction_mat"
      ],
      "metadata": {
        "id": "ISJd_HvQ15ji"
      },
      "execution_count": null,
      "outputs": []
    },
    {
      "cell_type": "markdown",
      "source": [
        "Now, let's train an MF model based on your implementation. The code is provided, you just need to excute the next cell. The expectations are:\n",
        "\n",
        "* first, the code can be successfully excuted without error;\n",
        "* and second, the training loss and RMSE on **test_mat** of each training epoch should be printed out for all 20 epochs.\n",
        "\n",
        "\n",
        "* Hint: the expected time used for training is around 10s to 60s per training epoch."
      ],
      "metadata": {
        "id": "rIpA5p5v19Oo"
      }
    },
    {
      "cell_type": "code",
      "source": [
        "mf = MF(train_mat, test_mat, latent=5, lr=0.01, reg=0.001)\n",
        "epoch_loss_list, epoch_test_RMSE_list = mf.train(epoch=20)"
      ],
      "metadata": {
        "colab": {
          "base_uri": "https://localhost:8080/"
        },
        "id": "1EPPwY0ohrTI",
        "outputId": "4b4490c5-c59d-43af-ebff-990de2663bc4"
      },
      "execution_count": null,
      "outputs": [
        {
          "output_type": "stream",
          "name": "stdout",
          "text": [
            "Epoch 1 : loss = 610632.6781268005 , rmse = 0.9523858170940803\n",
            "Epoch 2 : loss = 596832.4097283303 , rmse = 0.9462613701552076\n",
            "Epoch 3 : loss = 581530.5533247042 , rmse = 0.9387975379002145\n",
            "Epoch 4 : loss = 562852.2211313038 , rmse = 0.9290190641789208\n",
            "Epoch 5 : loss = 545843.1582091859 , rmse = 0.9215744966170243\n",
            "Epoch 6 : loss = 533965.061170454 , rmse = 0.9157091951847153\n",
            "Epoch 7 : loss = 525777.9731593326 , rmse = 0.9131509819027603\n",
            "Epoch 8 : loss = 516107.32045554975 , rmse = 0.9078839395350754\n",
            "Epoch 9 : loss = 512167.93378496246 , rmse = 0.9076042341352862\n",
            "Epoch 10 : loss = 507783.96966931364 , rmse = 0.9056123785515824\n",
            "Epoch 11 : loss = 502266.1862222134 , rmse = 0.9024023961521176\n",
            "Epoch 12 : loss = 500577.3246604785 , rmse = 0.9015550277609031\n",
            "Epoch 13 : loss = 498266.8227309008 , rmse = 0.900350787860001\n",
            "Epoch 14 : loss = 495894.32545574283 , rmse = 0.8999658653880108\n",
            "Epoch 15 : loss = 495193.52285354777 , rmse = 0.9005273504052216\n",
            "Epoch 16 : loss = 495435.5013824127 , rmse = 0.902043918578882\n",
            "Epoch 17 : loss = 492192.41091564187 , rmse = 0.8993158617892156\n",
            "Epoch 18 : loss = 491493.38858912856 , rmse = 0.8994206725335157\n",
            "Epoch 19 : loss = 489413.40110066364 , rmse = 0.8988087706050761\n",
            "Epoch 20 : loss = 488911.10710995394 , rmse = 0.8986771484516428\n"
          ]
        }
      ]
    },
    {
      "cell_type": "code",
      "source": [
        "mf = MF(train_mat, test_mat, latent=5, lr=0.01, reg=0.001)\n",
        "epoch_loss_list, epoch_test_RMSE_list = mf.train(epoch=20)"
      ],
      "metadata": {
        "id": "8xBeR6gH2Avp",
        "colab": {
          "base_uri": "https://localhost:8080/"
        },
        "outputId": "23ff2be8-dea4-499a-b333-fa98c66afaf3"
      },
      "execution_count": null,
      "outputs": [
        {
          "output_type": "stream",
          "name": "stdout",
          "text": [
            "Epoch 1 : loss = 610725.1688346888 , rmse = 0.9532207377848573\n",
            "Epoch 2 : loss = 597328.5930754363 , rmse = 0.9465955276213102\n",
            "Epoch 3 : loss = 587222.0745829766 , rmse = 0.9431780959947338\n",
            "Epoch 4 : loss = 568263.833585108 , rmse = 0.9347102118236911\n",
            "Epoch 5 : loss = 550208.6872294131 , rmse = 0.9254053974105978\n",
            "Epoch 6 : loss = 536548.9384664724 , rmse = 0.9178754336108788\n",
            "Epoch 7 : loss = 527860.9342245904 , rmse = 0.9151364739564599\n",
            "Epoch 8 : loss = 520064.03971461643 , rmse = 0.9109705619186451\n",
            "Epoch 9 : loss = 512226.6834627098 , rmse = 0.9066702297402246\n",
            "Epoch 10 : loss = 507949.39824121067 , rmse = 0.9056170168144345\n",
            "Epoch 11 : loss = 503215.19512651884 , rmse = 0.9023708830570486\n",
            "Epoch 12 : loss = 501159.99106498744 , rmse = 0.9030737616109111\n",
            "Epoch 13 : loss = 497810.0072017624 , rmse = 0.9009584467390732\n",
            "Epoch 14 : loss = 496152.5853434272 , rmse = 0.9017579138497739\n",
            "Epoch 15 : loss = 496016.38082613336 , rmse = 0.9017421696964899\n",
            "Epoch 16 : loss = 492219.1294369945 , rmse = 0.8987913725234611\n",
            "Epoch 17 : loss = 492279.79248759674 , rmse = 0.9004556330096937\n",
            "Epoch 18 : loss = 490678.46539555636 , rmse = 0.8989310787713158\n",
            "Epoch 19 : loss = 491048.02953181555 , rmse = 0.9001247498829015\n",
            "Epoch 20 : loss = 487937.9980306522 , rmse = 0.8971986417363216\n"
          ]
        }
      ]
    },
    {
      "cell_type": "markdown",
      "source": [
        "## Tune Hyper-parameters in Matrix Factorization\n",
        "\n",
        "In the previous part, we train an MF model with latent dimension set as 5, regularization weight as 0.001, training epoch as 20. However, it is not clear whether these are good choices or not. Hence, in this part, we will tune these hyper-parameters to train an effective model.\n",
        "\n",
        "A most straightforward but powerful method is to grid search each hyper-parameter and find the best one based on the RMSE on test_mat. In this part, we will do the grid search for train epoch, latent dimension, and regularization weight.\n",
        "\n",
        "#### Tune training epoch####\n",
        "\n",
        "For training epoch, we only need to run the experiment of MF for one time, and record the test RMSE for each epoch and find the epoch that produces the best test RMSE. To visually show the change of test RMSE corresponding to the training epoch, we can plot the test RMSE for each epoch in a figure as shown in the next cell.\n",
        "\n",
        "**Note that you need to first install the matplotlib, then you can excute the next cell**"
      ],
      "metadata": {
        "id": "hAoykVgg2BNl"
      }
    },
    {
      "cell_type": "code",
      "source": [
        "import matplotlib.pyplot as plt\n",
        "\n",
        "fig, ax = plt.subplots(nrows=1, ncols=1, figsize=(8, 4))\n",
        "ax.plot(np.arange(len(epoch_test_RMSE_list)) + 1, epoch_test_RMSE_list, marker='.', linewidth=1.5, markersize=8)\n",
        "ax.set_xticks(np.arange(len(epoch_test_RMSE_list)) + 1)\n",
        "ax.set_ylabel('test RMSE')\n",
        "ax.set_xlabel('epoch')\n",
        "ax.set_title('Tune training epoch')\n",
        "ax.grid(True)\n",
        "plt.tight_layout()\n",
        "plt.show()"
      ],
      "metadata": {
        "id": "GZPsAD8v2NIG",
        "colab": {
          "base_uri": "https://localhost:8080/",
          "height": 297
        },
        "outputId": "437e014e-7eaa-4587-ee41-eea4b822a186"
      },
      "execution_count": null,
      "outputs": [
        {
          "output_type": "display_data",
          "data": {
            "text/plain": [
              "<Figure size 576x288 with 1 Axes>"
            ],
            "image/png": "[encoded data removed]"
          },
          "metadata": {
            "needs_background": "light"
          }
        }
      ]
    },
    {
      "cell_type": "markdown",
      "source": [
        "\n",
        "Based on this plot, what is the best epoch for your MF model?"
      ],
      "metadata": {
        "id": "p2e5yapn2Q97"
      }
    },
    {
      "cell_type": "markdown",
      "source": [
        "20"
      ],
      "metadata": {
        "id": "WSNd_J7S2Rmj"
      }
    },
    {
      "cell_type": "markdown",
      "source": [
        "#### Tune latent dimension####\n",
        "\n",
        "By this figure, you can find the best epoch for your MF model. Similarly, you can plot how the test RMSE changes when you set different latent dimensions. For this, you need to run the code to initialize and train the MF model for multiple times with different settings of 'latent'. Please run the MF model with 'latent' as {1,3,5,7,9}, and plot the corresponding test RMSE for these five different latent dimensions in the next cell.\n",
        "\n",
        "**Note that for these five runs of experiments, record the test RMSE after E training epochs -- E is the best epoch you find by the 'Tune training epoch' plot. And here, fix regularization weight as 0.001**.\n",
        "\n",
        "**Note that the expected output of the next cell is just the plot, you don't need to show the code and printing of the experiment with different 'latent' here.**"
      ],
      "metadata": {
        "id": "cHPTnd352W2O"
      }
    },
    {
      "cell_type": "code",
      "source": [
        "# Your Code Here...\n",
        "E=20\n",
        "latents = [3,4,5,6,7,8,9]\n",
        "y_axis=[]\n",
        "for latent in latents:\n",
        "  print(\"latent factors dimension : {}\".format(latent))\n",
        "  print(\"-------------------------------\")\n",
        "  mf = MF(train_mat, test_mat, latent=latent, lr=0.01, reg=0.001)\n",
        "  epoch_loss_list, epoch_test_RMSE_list = mf.train(epoch=E)\n",
        "  y_axis.append(epoch_test_RMSE_list[-1])\n"
      ],
      "metadata": {
        "id": "6Mfr24w02d0D",
        "colab": {
          "base_uri": "https://localhost:8080/"
        },
        "outputId": "6834aa45-2335-4d96-d93e-cd24dc5dbfaf"
      },
      "execution_count": null,
      "outputs": [
        {
          "output_type": "stream",
          "name": "stdout",
          "text": [
            "latent factors dimension : 3\n",
            "-------------------------------\n",
            "Epoch 1 : loss = 616775.1220608779 , rmse = 0.9550957997376752\n",
            "Epoch 2 : loss = 605335.4536929856 , rmse = 0.9479425617151475\n",
            "Epoch 3 : loss = 599348.1350875269 , rmse = 0.9451006774040026\n",
            "Epoch 4 : loss = 593713.8548593894 , rmse = 0.9438051666893007\n",
            "Epoch 5 : loss = 584911.6243339345 , rmse = 0.9392137433298031\n",
            "Epoch 6 : loss = 573554.3896293396 , rmse = 0.9324085002975746\n",
            "Epoch 7 : loss = 562494.0808563224 , rmse = 0.9266123558671865\n",
            "Epoch 8 : loss = 553257.9044772537 , rmse = 0.9199856170240495\n",
            "Epoch 9 : loss = 547024.004854667 , rmse = 0.916134772911125\n",
            "Epoch 10 : loss = 542057.425239104 , rmse = 0.912452023755595\n",
            "Epoch 11 : loss = 537809.0632974351 , rmse = 0.9086670366273634\n",
            "Epoch 12 : loss = 536418.3970139247 , rmse = 0.9102369403349367\n",
            "Epoch 13 : loss = 532220.0795362706 , rmse = 0.9066792354978167\n",
            "Epoch 14 : loss = 531148.702714998 , rmse = 0.9069315413306355\n",
            "Epoch 15 : loss = 528596.8492645338 , rmse = 0.9043566979608322\n",
            "Epoch 16 : loss = 529266.9109975443 , rmse = 0.9053775222806594\n",
            "Epoch 17 : loss = 527661.6386712405 , rmse = 0.9045267719021493\n",
            "Epoch 18 : loss = 526552.0619580358 , rmse = 0.904893787851241\n",
            "Epoch 19 : loss = 526698.5052838257 , rmse = 0.9050134749981367\n",
            "Epoch 20 : loss = 524994.5375161058 , rmse = 0.9044114471117732\n",
            "latent factors dimension : 4\n",
            "-------------------------------\n",
            "Epoch 1 : loss = 613328.6431232347 , rmse = 0.9530209522231059\n",
            "Epoch 2 : loss = 602481.5514526966 , rmse = 0.9478938353019634\n",
            "Epoch 3 : loss = 589781.5755483725 , rmse = 0.9417287047295425\n",
            "Epoch 4 : loss = 567441.129341994 , rmse = 0.9293178535706428\n",
            "Epoch 5 : loss = 549895.9953571752 , rmse = 0.9192018325085978\n",
            "Epoch 6 : loss = 537068.9700896682 , rmse = 0.9117440377655093\n",
            "Epoch 7 : loss = 527950.5502714092 , rmse = 0.907219536269925\n",
            "Epoch 8 : loss = 522861.04054705723 , rmse = 0.9043137299297941\n",
            "Epoch 9 : loss = 519686.35793075396 , rmse = 0.9038285043426633\n",
            "Epoch 10 : loss = 515288.1863282675 , rmse = 0.9003174614121154\n",
            "Epoch 11 : loss = 513600.0891552671 , rmse = 0.9007196068658303\n",
            "Epoch 12 : loss = 511061.9272692597 , rmse = 0.8993703345279245\n",
            "Epoch 13 : loss = 508326.14444074203 , rmse = 0.8977455588367536\n",
            "Epoch 14 : loss = 508884.8173185561 , rmse = 0.8994357179768422\n",
            "Epoch 15 : loss = 508527.26825914136 , rmse = 0.9008983200768537\n",
            "Epoch 16 : loss = 505171.3962888154 , rmse = 0.8969404551358571\n",
            "Epoch 17 : loss = 506502.4460650805 , rmse = 0.8981117032253202\n",
            "Epoch 18 : loss = 505085.0999758432 , rmse = 0.8990779961839305\n",
            "Epoch 19 : loss = 504137.08993388194 , rmse = 0.89836176762252\n",
            "Epoch 20 : loss = 505200.2311591678 , rmse = 0.8998797498262614\n",
            "latent factors dimension : 5\n",
            "-------------------------------\n",
            "Epoch 1 : loss = 610423.2669676587 , rmse = 0.9521983996559601\n",
            "Epoch 2 : loss = 596818.7865361607 , rmse = 0.9458121484388727\n",
            "Epoch 3 : loss = 578708.7955834637 , rmse = 0.93706326188085\n",
            "Epoch 4 : loss = 559260.0829243104 , rmse = 0.927268131285132\n",
            "Epoch 5 : loss = 544697.0006274662 , rmse = 0.9201045930573117\n",
            "Epoch 6 : loss = 533080.1186394017 , rmse = 0.9153988349883824\n",
            "Epoch 7 : loss = 523529.35752295173 , rmse = 0.9116099417305036\n",
            "Epoch 8 : loss = 516292.4373934562 , rmse = 0.9073730991659144\n",
            "Epoch 9 : loss = 512110.7283578298 , rmse = 0.906723533961414\n",
            "Epoch 10 : loss = 507304.4560296592 , rmse = 0.904558390253952\n",
            "Epoch 11 : loss = 502590.65240553947 , rmse = 0.9022117236816192\n",
            "Epoch 12 : loss = 501117.8571501026 , rmse = 0.9025853199033217\n",
            "Epoch 13 : loss = 497755.3079175223 , rmse = 0.9011004035515496\n",
            "Epoch 14 : loss = 494686.9762778059 , rmse = 0.898185955198887\n",
            "Epoch 15 : loss = 493946.1091389045 , rmse = 0.8982742354440371\n",
            "Epoch 16 : loss = 492963.5694877049 , rmse = 0.898899266375024\n",
            "Epoch 17 : loss = 492735.3240427576 , rmse = 0.9003485110749587\n",
            "Epoch 18 : loss = 490065.26599074865 , rmse = 0.8979730391732069\n",
            "Epoch 19 : loss = 490024.80811244564 , rmse = 0.899913572195687\n",
            "Epoch 20 : loss = 488178.7984484111 , rmse = 0.8975737764903275\n",
            "latent factors dimension : 6\n",
            "-------------------------------\n",
            "Epoch 1 : loss = 607203.8227615205 , rmse = 0.9512300908029185\n",
            "Epoch 2 : loss = 597294.2558508602 , rmse = 0.9484383409717617\n",
            "Epoch 3 : loss = 586907.6308325707 , rmse = 0.9448576845380774\n",
            "Epoch 4 : loss = 569728.5669584378 , rmse = 0.9379386708781657\n",
            "Epoch 5 : loss = 548742.040733448 , rmse = 0.9282866464847142\n",
            "Epoch 6 : loss = 531377.1360133957 , rmse = 0.9177672043320173\n",
            "Epoch 7 : loss = 520305.9552418017 , rmse = 0.9140913937629286\n",
            "Epoch 8 : loss = 511205.2607157043 , rmse = 0.9104461835866016\n",
            "Epoch 9 : loss = 502236.7161217736 , rmse = 0.9058398184991088\n",
            "Epoch 10 : loss = 496366.794261795 , rmse = 0.9030808710748337\n",
            "Epoch 11 : loss = 492943.2188818109 , rmse = 0.9031767661164651\n",
            "Epoch 12 : loss = 489632.4803827888 , rmse = 0.9019387459207879\n",
            "Epoch 13 : loss = 486044.84544020117 , rmse = 0.8996380039076658\n",
            "Epoch 14 : loss = 484372.0090069803 , rmse = 0.8995499032205763\n",
            "Epoch 15 : loss = 482088.7380111188 , rmse = 0.8982897958870578\n",
            "Epoch 16 : loss = 480233.6086405508 , rmse = 0.8972971230596604\n",
            "Epoch 17 : loss = 478217.2980885604 , rmse = 0.8972755539253235\n",
            "Epoch 18 : loss = 477080.1032319183 , rmse = 0.8966851763140503\n",
            "Epoch 19 : loss = 476044.08017151686 , rmse = 0.8969524172353657\n",
            "Epoch 20 : loss = 475024.28317614034 , rmse = 0.8963905040925385\n",
            "latent factors dimension : 7\n",
            "-------------------------------\n",
            "Epoch 1 : loss = 607200.53252821 , rmse = 0.953684048387698\n",
            "Epoch 2 : loss = 595559.1476257073 , rmse = 0.9496580304040445\n",
            "Epoch 3 : loss = 578475.6298339758 , rmse = 0.9435230134977187\n",
            "Epoch 4 : loss = 558428.8669912561 , rmse = 0.9328265707632473\n",
            "Epoch 5 : loss = 538333.1629715833 , rmse = 0.9247745876979899\n",
            "Epoch 6 : loss = 525218.3950647092 , rmse = 0.9197876127249951\n",
            "Epoch 7 : loss = 512441.4951703568 , rmse = 0.9154102659538174\n",
            "Epoch 8 : loss = 502332.0780253892 , rmse = 0.9122606446501687\n",
            "Epoch 9 : loss = 496771.8724307611 , rmse = 0.90999240085783\n",
            "Epoch 10 : loss = 490637.1414660602 , rmse = 0.9092040964019603\n",
            "Epoch 11 : loss = 484861.8996635094 , rmse = 0.9061465982808075\n",
            "Epoch 12 : loss = 481858.3429556297 , rmse = 0.9057706478160518\n",
            "Epoch 13 : loss = 476309.73660740146 , rmse = 0.9036298319499495\n",
            "Epoch 14 : loss = 476014.39576462103 , rmse = 0.9036908931049444\n",
            "Epoch 15 : loss = 474939.9494267712 , rmse = 0.9049595796355902\n",
            "Epoch 16 : loss = 472572.9907567806 , rmse = 0.9038254565649656\n",
            "Epoch 17 : loss = 469172.05954154074 , rmse = 0.9036705798734685\n",
            "Epoch 18 : loss = 467355.6958438445 , rmse = 0.9021179792178682\n",
            "Epoch 19 : loss = 465953.8713379675 , rmse = 0.9025263860355214\n",
            "Epoch 20 : loss = 465725.1723239197 , rmse = 0.9032113872696133\n",
            "latent factors dimension : 8\n",
            "-------------------------------\n",
            "Epoch 1 : loss = 605838.4770020812 , rmse = 0.9532810928132289\n",
            "Epoch 2 : loss = 591294.7056483687 , rmse = 0.948137437155247\n",
            "Epoch 3 : loss = 569075.0032405554 , rmse = 0.9390143754117806\n",
            "Epoch 4 : loss = 547187.5251516657 , rmse = 0.93076239516138\n",
            "Epoch 5 : loss = 526945.6758620951 , rmse = 0.9227274821515214\n",
            "Epoch 6 : loss = 511859.0143770767 , rmse = 0.9171224996918039\n",
            "Epoch 7 : loss = 501201.3837367066 , rmse = 0.9144311431994234\n",
            "Epoch 8 : loss = 492490.2196315111 , rmse = 0.9108192395667205\n",
            "Epoch 9 : loss = 484288.93521201477 , rmse = 0.9091234941163255\n",
            "Epoch 10 : loss = 478671.05257348873 , rmse = 0.9074862401346445\n",
            "Epoch 11 : loss = 472147.03652919276 , rmse = 0.904227103710107\n",
            "Epoch 12 : loss = 470744.2360756553 , rmse = 0.9056029779564337\n",
            "Epoch 13 : loss = 466310.0103884179 , rmse = 0.9050690505891321\n",
            "Epoch 14 : loss = 464049.4231849648 , rmse = 0.9049098950258102\n",
            "Epoch 15 : loss = 461241.92375495227 , rmse = 0.9041131619178908\n",
            "Epoch 16 : loss = 459916.62252413755 , rmse = 0.9031790302733581\n",
            "Epoch 17 : loss = 457042.6976047947 , rmse = 0.9025331475570206\n",
            "Epoch 18 : loss = 457001.27639528067 , rmse = 0.9048561237779678\n",
            "Epoch 19 : loss = 453577.201736741 , rmse = 0.9014822896774075\n",
            "Epoch 20 : loss = 452235.82522590295 , rmse = 0.902367480394358\n",
            "latent factors dimension : 9\n",
            "-------------------------------\n",
            "Epoch 1 : loss = 603528.3093448562 , rmse = 0.951773713867397\n",
            "Epoch 2 : loss = 587411.5585887849 , rmse = 0.947355368175914\n",
            "Epoch 3 : loss = 566057.1915229271 , rmse = 0.9397177508589782\n",
            "Epoch 4 : loss = 541025.7793157217 , rmse = 0.9297859845866597\n",
            "Epoch 5 : loss = 521791.21338372625 , rmse = 0.9239903361906292\n",
            "Epoch 6 : loss = 504864.5836778537 , rmse = 0.917661045120295\n",
            "Epoch 7 : loss = 493086.2445530082 , rmse = 0.9149821644017511\n",
            "Epoch 8 : loss = 482886.3142556402 , rmse = 0.9112977493594038\n",
            "Epoch 9 : loss = 474975.3923493274 , rmse = 0.9094667964912175\n",
            "Epoch 10 : loss = 469017.01372229937 , rmse = 0.9083013352942908\n",
            "Epoch 11 : loss = 463424.86028088885 , rmse = 0.9073304120093532\n",
            "Epoch 12 : loss = 459774.3243149652 , rmse = 0.9078735421359917\n",
            "Epoch 13 : loss = 455449.57657144545 , rmse = 0.90611349526559\n",
            "Epoch 14 : loss = 453033.8578048112 , rmse = 0.9055852928412759\n",
            "Epoch 15 : loss = 449734.45798340265 , rmse = 0.9050396049036497\n",
            "Epoch 16 : loss = 447885.2424558763 , rmse = 0.9056745561125348\n",
            "Epoch 17 : loss = 445656.0299998043 , rmse = 0.9057862496224228\n",
            "Epoch 18 : loss = 444625.520421262 , rmse = 0.9056908495796202\n",
            "Epoch 19 : loss = 443619.4448987358 , rmse = 0.9059874473814844\n",
            "Epoch 20 : loss = 441752.9534574157 , rmse = 0.9062765396863137\n"
          ]
        }
      ]
    },
    {
      "cell_type": "code",
      "source": [
        "fig, ax = plt.subplots(nrows=1, ncols=1, figsize=(8, 4))\n",
        "ax.plot(np.arange(len(y_axis)) + 1, y_axis, marker='.', linewidth=1.5, markersize=8)\n",
        "ax.set_xticks(np.arange(len(y_axis)) + 1)\n",
        "ax.set_ylabel('test RMSE')\n",
        "ax.set_xlabel('latents')\n",
        "ax.grid(True)\n",
        "plt.tight_layout()\n",
        "plt.show()"
      ],
      "metadata": {
        "colab": {
          "base_uri": "https://localhost:8080/",
          "height": 297
        },
        "id": "BXkhICDf7e-Q",
        "outputId": "48ae4fec-d79c-4cf7-ff3e-ddb3d4eaecfd"
      },
      "execution_count": null,
      "outputs": [
        {
          "output_type": "display_data",
          "data": {
            "text/plain": [
              "<Figure size 576x288 with 1 Axes>"
            ],
            "image/png": "[encoded data removed]"
          },
          "metadata": {
            "needs_background": "light"
          }
        }
      ]
    },
    {
      "cell_type": "markdown",
      "source": [
        "Based on this plot, what is the best latent dimension for your MF model?"
      ],
      "metadata": {
        "id": "QV_f3D6M2gne"
      }
    },
    {
      "cell_type": "markdown",
      "source": [
        "4"
      ],
      "metadata": {
        "id": "rNE50oyS2iQ9"
      }
    },
    {
      "cell_type": "markdown",
      "source": [
        "#### Tune regularization weight####\n",
        "\n",
        "Last, you can plot how the test RMSE changes when you set different regularization weight. Please run the MF model with 'reg' as {0.0001,0.0005,0.001,0.0015,0.002}, and plot corresponding test RMSE for these five different regularization weights in the next cell.\n",
        "\n",
        "**Note that for these five runs of experiments, record the test RMSE after E training epochs -- E is the best epoch you find by the 'Tune training epoch' plot. And here, fix latent dimension as the one you find the best by the previous part**\n",
        "\n",
        "**Note that the expected output of the next cell is just the plot, you don't need to show the code and printing of the experiment with different 'reg' here.**"
      ],
      "metadata": {
        "id": "aq1Pwa0d2j8_"
      }
    },
    {
      "cell_type": "code",
      "source": [
        "# Your Code Here...\n",
        "import math\n",
        "E=20\n",
        "best_latent=4\n",
        "regs = [0.0001,0.0005,0.001,0.0015,0.002]\n",
        "y_axis=[]\n",
        "for reg in regs:\n",
        "  print(\"\")\n",
        "  print(\"Regularization factor : {}\".format(reg))\n",
        "  print(\"---------------------------------\")\n",
        "  mf = MF(train_mat, test_mat, latent=best_latent, lr=0.01, reg=reg)\n",
        "  epoch_loss_list, epoch_test_RMSE_list = mf.train(epoch=E)\n",
        "  y_axis.append(epoch_test_RMSE_list[-1])\n"
      ],
      "metadata": {
        "id": "8x-xbXSu2nv_",
        "colab": {
          "base_uri": "https://localhost:8080/"
        },
        "outputId": "40082c6b-a197-488f-9db9-a0545699c4d1"
      },
      "execution_count": null,
      "outputs": [
        {
          "output_type": "stream",
          "name": "stdout",
          "text": [
            "\n",
            "Regularization factor : 0.0001\n",
            "---------------------------------\n",
            "Epoch 1 : loss = 613848.4757082188 , rmse = 0.9531904073643133\n",
            "Epoch 2 : loss = 601377.9732770786 , rmse = 0.9468235333559275\n",
            "Epoch 3 : loss = 590558.9826910507 , rmse = 0.9428333413579513\n",
            "Epoch 4 : loss = 572614.217706646 , rmse = 0.9329807526050211\n",
            "Epoch 5 : loss = 560632.4226694201 , rmse = 0.9260129730816455\n",
            "Epoch 6 : loss = 550914.3650039686 , rmse = 0.9211814065964316\n",
            "Epoch 7 : loss = 542250.9494586709 , rmse = 0.9175892028191609\n",
            "Epoch 8 : loss = 535076.852409068 , rmse = 0.9136885006021196\n",
            "Epoch 9 : loss = 532003.6464059674 , rmse = 0.911517460523296\n",
            "Epoch 10 : loss = 529354.8845473804 , rmse = 0.912296330425892\n",
            "Epoch 11 : loss = 526812.4596462043 , rmse = 0.9113479723876352\n",
            "Epoch 12 : loss = 524293.6931491445 , rmse = 0.9098838426815572\n",
            "Epoch 13 : loss = 523539.4824687629 , rmse = 0.9118031342535003\n",
            "Epoch 14 : loss = 520446.5527364791 , rmse = 0.9089962130333195\n",
            "Epoch 15 : loss = 518662.1345867539 , rmse = 0.9078665192868185\n",
            "Epoch 16 : loss = 519643.1434696458 , rmse = 0.9099041543085171\n",
            "Epoch 17 : loss = 515931.221523056 , rmse = 0.9080385925352799\n",
            "Epoch 18 : loss = 516365.972468222 , rmse = 0.9083043191857663\n",
            "Epoch 19 : loss = 514889.61127862125 , rmse = 0.9080033871902712\n",
            "Epoch 20 : loss = 516542.0797936537 , rmse = 0.9096418628556062\n",
            "\n",
            "Regularization factor : 0.0005\n",
            "---------------------------------\n",
            "Epoch 1 : loss = 614023.1571856132 , rmse = 0.953097748055287\n",
            "Epoch 2 : loss = 602719.526926255 , rmse = 0.9484614144723302\n",
            "Epoch 3 : loss = 594525.1291923228 , rmse = 0.9446768063228808\n",
            "Epoch 4 : loss = 578880.3783941895 , rmse = 0.9361482813357304\n",
            "Epoch 5 : loss = 565167.5877425249 , rmse = 0.9300124270313858\n",
            "Epoch 6 : loss = 553743.5362514833 , rmse = 0.9235546764564829\n",
            "Epoch 7 : loss = 541755.0173266487 , rmse = 0.9160255472904685\n",
            "Epoch 8 : loss = 536957.3774117362 , rmse = 0.9150122456714029\n",
            "Epoch 9 : loss = 530560.3722770105 , rmse = 0.9114181802278496\n",
            "Epoch 10 : loss = 525219.2141682185 , rmse = 0.908397703802888\n",
            "Epoch 11 : loss = 520553.7369034292 , rmse = 0.9067885414022271\n",
            "Epoch 12 : loss = 517704.1544979678 , rmse = 0.9045896155540037\n",
            "Epoch 13 : loss = 515729.4679975622 , rmse = 0.9047769510050261\n",
            "Epoch 14 : loss = 513706.1570909106 , rmse = 0.9031559417222154\n",
            "Epoch 15 : loss = 511140.2338901277 , rmse = 0.9012911609401073\n",
            "Epoch 16 : loss = 509077.3176268941 , rmse = 0.9014160000673593\n",
            "Epoch 17 : loss = 508449.10503789375 , rmse = 0.9011985764894307\n",
            "Epoch 18 : loss = 509508.92459040054 , rmse = 0.9022725314418404\n",
            "Epoch 19 : loss = 507351.16228396597 , rmse = 0.9009108100775011\n",
            "Epoch 20 : loss = 507052.1576951641 , rmse = 0.9016693606287822\n",
            "\n",
            "Regularization factor : 0.001\n",
            "---------------------------------\n",
            "Epoch 1 : loss = 614782.9946179606 , rmse = 0.9548611592268232\n",
            "Epoch 2 : loss = 600502.0367722147 , rmse = 0.9467419758397912\n",
            "Epoch 3 : loss = 588420.9337844973 , rmse = 0.9405626574758169\n",
            "Epoch 4 : loss = 572667.2066427065 , rmse = 0.9326206914696691\n",
            "Epoch 5 : loss = 558629.8810385283 , rmse = 0.9260829074103378\n",
            "Epoch 6 : loss = 548853.9333147488 , rmse = 0.9209316192586592\n",
            "Epoch 7 : loss = 541431.8337393699 , rmse = 0.9175153051979278\n",
            "Epoch 8 : loss = 535400.4249737145 , rmse = 0.9146103995197004\n",
            "Epoch 9 : loss = 530748.1282256311 , rmse = 0.913112699506609\n",
            "Epoch 10 : loss = 525818.6487570889 , rmse = 0.9093893256612485\n",
            "Epoch 11 : loss = 522937.4254718263 , rmse = 0.9089635588998104\n",
            "Epoch 12 : loss = 519280.9511839571 , rmse = 0.9064897015889011\n",
            "Epoch 13 : loss = 518575.45873423986 , rmse = 0.9069019789406781\n",
            "Epoch 14 : loss = 514411.82497179904 , rmse = 0.9042229197560516\n",
            "Epoch 15 : loss = 513317.84483655577 , rmse = 0.9045421271592193\n",
            "Epoch 16 : loss = 512937.92434392415 , rmse = 0.9040518816728885\n",
            "Epoch 17 : loss = 511531.4297920587 , rmse = 0.9043506884015278\n",
            "Epoch 18 : loss = 508651.5207508793 , rmse = 0.9022614912068715\n",
            "Epoch 19 : loss = 508834.3817773011 , rmse = 0.9027466184595137\n",
            "Epoch 20 : loss = 507605.0330351785 , rmse = 0.9023528677565548\n",
            "\n",
            "Regularization factor : 0.0015\n",
            "---------------------------------\n",
            "Epoch 1 : loss = 613395.0039562635 , rmse = 0.9528836922796332\n",
            "Epoch 2 : loss = 599748.2774186726 , rmse = 0.9460401205087617\n",
            "Epoch 3 : loss = 585553.1194003464 , rmse = 0.9379505382607111\n",
            "Epoch 4 : loss = 569344.498745853 , rmse = 0.9296852444045136\n",
            "Epoch 5 : loss = 555823.8248705779 , rmse = 0.9230037108061795\n",
            "Epoch 6 : loss = 548500.506720392 , rmse = 0.9198452325772467\n",
            "Epoch 7 : loss = 539839.7231312479 , rmse = 0.9149794539570001\n",
            "Epoch 8 : loss = 532053.493251692 , rmse = 0.9114817076171522\n",
            "Epoch 9 : loss = 528324.4181075664 , rmse = 0.9104872155061196\n",
            "Epoch 10 : loss = 526045.6856093558 , rmse = 0.9097749137156996\n",
            "Epoch 11 : loss = 521070.6485864123 , rmse = 0.9073528359833084\n",
            "Epoch 12 : loss = 520111.7489686382 , rmse = 0.9073874036940502\n",
            "Epoch 13 : loss = 515676.2774401292 , rmse = 0.9047813855446369\n",
            "Epoch 14 : loss = 516113.8661341094 , rmse = 0.9055132966529564\n",
            "Epoch 15 : loss = 514736.0904923749 , rmse = 0.9058666650554124\n",
            "Epoch 16 : loss = 513111.95669554727 , rmse = 0.9040862742171742\n",
            "Epoch 17 : loss = 512505.35740005324 , rmse = 0.9039536731013474\n",
            "Epoch 18 : loss = 511462.20814425993 , rmse = 0.904441464201242\n",
            "Epoch 19 : loss = 511387.72354701115 , rmse = 0.9043853832237527\n",
            "Epoch 20 : loss = 509353.4901010643 , rmse = 0.9040251457569746\n",
            "\n",
            "Regularization factor : 0.002\n",
            "---------------------------------\n",
            "Epoch 1 : loss = 614555.4085059435 , rmse = 0.9535859885117304\n",
            "Epoch 2 : loss = 600519.2295921824 , rmse = 0.9462190902408705\n",
            "Epoch 3 : loss = 586487.9277602262 , rmse = 0.9404664209517675\n",
            "Epoch 4 : loss = 567992.551719424 , rmse = 0.9284337900432659\n",
            "Epoch 5 : loss = 554928.8253866505 , rmse = 0.9218260447474954\n",
            "Epoch 6 : loss = 542166.7585940644 , rmse = 0.9155458255054691\n",
            "Epoch 7 : loss = 533148.9421328765 , rmse = 0.9113191701205219\n",
            "Epoch 8 : loss = 526903.8431101392 , rmse = 0.9080326844892304\n",
            "Epoch 9 : loss = 520916.5570497372 , rmse = 0.9052668225263802\n",
            "Epoch 10 : loss = 519322.3839005127 , rmse = 0.9046510489353068\n",
            "Epoch 11 : loss = 514481.0331933354 , rmse = 0.9020360720192699\n",
            "Epoch 12 : loss = 512650.82341916556 , rmse = 0.9019281271449114\n",
            "Epoch 13 : loss = 510718.2143171189 , rmse = 0.9007684676298565\n",
            "Epoch 14 : loss = 509215.74776303873 , rmse = 0.9010089465460661\n",
            "Epoch 15 : loss = 508458.3144425152 , rmse = 0.9007266197708169\n",
            "Epoch 16 : loss = 508850.91853591305 , rmse = 0.9019559322147596\n",
            "Epoch 17 : loss = 507099.292842541 , rmse = 0.9012897601270737\n",
            "Epoch 18 : loss = 506760.74646478874 , rmse = 0.9016007315428411\n",
            "Epoch 19 : loss = 506237.8188144354 , rmse = 0.9011662621501444\n",
            "Epoch 20 : loss = 506057.22725341533 , rmse = 0.9012879314915008\n"
          ]
        }
      ]
    },
    {
      "cell_type": "code",
      "source": [
        "fig, ax = plt.subplots(nrows=1, ncols=1, figsize=(8, 4))\n",
        "ax.plot(regs , y_axis, marker='.', linewidth=1.5, markersize=8)\n",
        "ax.set_ylabel('test RMSE')\n",
        "ax.set_xlabel('regularization values')\n",
        "ax.set_title('Tune regularization weight')\n",
        "ax.grid(True)\n",
        "plt.tight_layout()\n",
        "plt.show()"
      ],
      "metadata": {
        "colab": {
          "base_uri": "https://localhost:8080/",
          "height": 297
        },
        "id": "0z4YpwOA7sKs",
        "outputId": "7838071b-f205-4844-e14b-69bdbd96c9ec"
      },
      "execution_count": null,
      "outputs": [
        {
          "output_type": "display_data",
          "data": {
            "text/plain": [
              "<Figure size 576x288 with 1 Axes>"
            ],
            "image/png": "[encoded data removed]"
          },
          "metadata": {
            "needs_background": "light"
          }
        }
      ]
    },
    {
      "cell_type": "markdown",
      "source": [
        "Based on this plot, what is the best regularization weight for your MF model?\n"
      ],
      "metadata": {
        "id": "pXY47Pi02lp4"
      }
    },
    {
      "cell_type": "markdown",
      "source": [
        "0.002"
      ],
      "metadata": {
        "id": "KFkZQiiF2rI6"
      }
    },
    {
      "cell_type": "markdown",
      "source": [
        "## Improve the Model\n",
        "\n",
        "Next, you need to try your best to improve the model so that we can improve our RMSE! This is open-ended, so feel free to try whatever tricks you like. We talked about several in class, plus you can find more in the readings. Write your code in the next cell and print out the RMSE of your new model."
      ],
      "metadata": {
        "id": "3vIEK3UH0H1Y"
      }
    },
    {
      "cell_type": "code",
      "source": [
        "# implement your improved model and print out the RMSE\n",
        "# Your Code Here...\n",
        "\n",
        "class MF_modified:\n",
        "    def __init__(self, train_mat, test_mat, latent=5, lr=0.01, reg=0.01):\n",
        "        self.train_mat = train_mat  # the training rating matrix of size (#user, #movie)\n",
        "        self.test_mat = test_mat  # the training rating matrix of size (#user, #movie)\n",
        "\n",
        "        self.latent = latent  # the latent dimension\n",
        "        self.lr = lr  # learning rate\n",
        "        self.reg = reg  # regularization weight, i.e., the lambda in the objective function\n",
        "\n",
        "        self.num_user, self.num_movie = train_mat.shape\n",
        "\n",
        "        self.sample_user, self.sample_movie = self.train_mat.nonzero()  # get the user-movie paris having ratings in train_mat\n",
        "        self.num_sample = len(self.sample_user)  # the number of user-movie pairs having ratings in train_mat\n",
        "\n",
        "        self.train_indicator_mat = 1.0 * (train_mat > 0)  # binary matrix to indicate whether s user-movie pair has rating or not in train_mat\n",
        "        self.test_indicator_mat = 1.0 * (test_mat > 0)  # binary matrix to indicate whether s user-movie pair has rating or not in test_mat\n",
        "\n",
        "        self.P = np.random.random((self.num_user, self.latent))  # latent factors for users, size (#user, self.latent), randomly initialized\n",
        "        self.Q = np.random.random((self.num_movie, self.latent))  # latent factors for users, size (#movie, self.latent), randomly initialized\n",
        "\n",
        "        self.user_bias = np.random.random(self.num_user)\n",
        "        self.movie_bias = np.random.random(self.num_movie)\n",
        "\n",
        "        self.overall_mean = overall_mean\n",
        "\n",
        "    def train(self, epoch=20, verbose=True):\n",
        "        \"\"\"\n",
        "        Goal: Write your code to train your matrix factorization model for epoch iterations in this function\n",
        "        Input: epoch -- the number of training epoch\n",
        "        Output: epoch_loss_list -- a list recording the training loss for each epoch\n",
        "                epoch_test_RMSE_list -- a list recording the testing RMSE after each training epoch\n",
        "        \"\"\"\n",
        "        epoch_loss_list = []\n",
        "        epoch_RMSE_list = []\n",
        "        self.user_ids,self.movie_ids=self.train_mat.nonzero()\n",
        "\n",
        "\n",
        "        indices = np.arange(len(self.user_ids))\n",
        "        for ep in range(epoch):\n",
        "            \"\"\"\n",
        "            Write your code here to implement the training process for one epoch,\n",
        "            and at the end of each epoch, print out the epoch number, the training loss after this epoch,\n",
        "            and the test RMSE after this epoch\n",
        "            \"\"\"\n",
        "            temp=np.copy(indices)\n",
        "            np.random.shuffle(temp)\n",
        "            for i in temp:\n",
        "              user = self.user_ids[i]\n",
        "              movie=self.movie_ids[i]\n",
        "\n",
        "              bias = overall_mean + self.user_bias[user] + self.movie_bias[movie]\n",
        "              self.P[user]-=self.lr*(2* (self.P[user].dot(self.Q[movie].T) + bias - self.train_mat[user][movie])  * self.Q[movie] + 2*self.reg*self.P[user] )\n",
        "              self.Q[movie]-= self.lr*(2* (self.P[user].dot(self.Q[movie].T) + bias - self.train_mat[user][movie])  * self.P[user] + 2*self.reg*self.Q[movie] )\n",
        "\n",
        "              self.user_bias[user]-=self.lr*(2* (self.P[user].dot(self.Q[movie].T) + bias - self.train_mat[user][movie]) + 2*self.reg*(self.user_bias[user]) )\n",
        "              self.movie_bias[movie]-=self.lr*(2* (self.P[user].dot(self.Q[movie].T) + bias - self.train_mat[user][movie]) + 2*self.reg*(self.movie_bias[movie]))\n",
        "\n",
        "            user_ids,movie_ids=self.train_mat.nonzero()\n",
        "            loss=0.0\n",
        "            for i in range(0,len(self.user_ids)):\n",
        "              user = self.user_ids[i]\n",
        "              movie=self.movie_ids[i]\n",
        "\n",
        "              bias = overall_mean + self.user_bias[user] + self.movie_bias[movie]\n",
        "\n",
        "              loss += np.square( np.dot(self.P[user],self.Q[movie].T) + bias - train_mat[user][movie] )\n",
        "            #loss += self.reg * (np.sum(self.P ** 2) + np.sum(self.Q ** 2) + np.sum(self.user_bias ** 2) + np.sum(self.movie_bias ** 2 ) )\n",
        "\n",
        "            loss = loss + self.reg*(np.square(np.linalg.norm(self.P,'fro'))+np.square(np.linalg.norm(self.Q,'fro')) + np.square(np.linalg.norm(self.user_bias)) + np.square(np.linalg.norm(self.movie_bias)))\n",
        "            epoch_loss_list.append(loss)\n",
        "\n",
        "\n",
        "            rmse = 0.0\n",
        "            count=0.0\n",
        "\n",
        "            user_ids,movie_ids=self.test_mat.nonzero()\n",
        "            for i in range(0,len(user_ids)):\n",
        "              user = user_ids[i]\n",
        "              movie = movie_ids[i]\n",
        "\n",
        "              bias = overall_mean + self.user_bias[user] + self.movie_bias[movie]\n",
        "\n",
        "              rmse += np.square( np.dot(self.P[user],self.Q[movie].T) + bias -test_mat[user][movie])\n",
        "              count+=1\n",
        "\n",
        "            rmse = np.sqrt(rmse / count)\n",
        "\n",
        "            print(\"Epoch {} : loss = {} , rmse = {}\".format(ep+1,loss,rmse))\n",
        "            epoch_RMSE_list.append(rmse)\n",
        "\n",
        "\n",
        "\n",
        "            \"\"\"\n",
        "            End of your code for this function\n",
        "            \"\"\"\n",
        "        return epoch_loss_list, epoch_RMSE_list\n",
        "\n",
        "\n",
        "    def predict(self):\n",
        "        prediction_mat = np.matmul(self.P, self.Q.T)\n",
        "        return prediction_mat"
      ],
      "metadata": {
        "id": "EyMIKUDz0L-w"
      },
      "execution_count": null,
      "outputs": []
    },
    {
      "cell_type": "code",
      "source": [
        "import math\n",
        "mf = MF_modified(train_mat, test_mat, latent=4, lr=0.01, reg=0.0005)\n",
        "epoch_loss_list, epoch_test_RMSE_list = mf.train(epoch=20)\n",
        "print(\"loss for 20 epochs: \")\n",
        "print(epoch_loss_list)\n",
        "print(\"rmse for 20 epochs: \")\n",
        "print(epoch_test_RMSE_list)"
      ],
      "metadata": {
        "colab": {
          "base_uri": "https://localhost:8080/"
        },
        "id": "ZBjzYXL471L0",
        "outputId": "67c44aab-d315-4589-a4d7-c2e7c6bf9b43"
      },
      "execution_count": null,
      "outputs": [
        {
          "output_type": "stream",
          "name": "stdout",
          "text": [
            "loss: 9438237.022307253, rmse: 0.9434893632567722\n",
            "loss: 9350037.210583655, rmse: 0.925432693190332\n",
            "loss: 9333923.079315914, rmse: 0.9199567717566584\n",
            "loss: 9324049.789917545, rmse: 0.9122981504152224\n",
            "loss: 9359430.620867534, rmse: 0.903234557214911\n",
            "loss: 9372528.743765224, rmse: 0.8973275500958287\n",
            "loss: 9399820.838529784, rmse: 0.8929230078783399\n",
            "loss: 9414739.5288205, rmse: 0.8904309187340224\n",
            "loss: 9400462.205194633, rmse: 0.8882593815482384\n",
            "loss: 9393734.863639733, rmse: 0.8883838255426644\n",
            "loss: 9391790.395323781, rmse: 0.8876957488351542\n",
            "loss: 9398484.614880228, rmse: 0.8871527350000343\n",
            "loss: 9393093.894736443, rmse: 0.8873076145256764\n",
            "loss: 9427202.810335344, rmse: 0.8878779076023053\n",
            "loss: 9427329.292985164, rmse: 0.8884063512687438\n",
            "loss: 9391204.83861061, rmse: 0.8890937054910478\n",
            "loss: 9425333.482512647, rmse: 0.8908676132758594\n",
            "loss: 9404526.419843508, rmse: 0.8916683876232177\n",
            "loss: 9405724.620738028, rmse: 0.8927170918146021\n",
            "loss: 9411031.09044967, rmse: 0.8938678114729123\n",
            "loss for 20 epochs: \n",
            "[9438237.022307253, 9350037.210583655, 9333923.079315914, 9324049.789917545, 9359430.620867534, 9372528.743765224, 9399820.838529784, 9414739.5288205, 9400462.205194633, 9393734.863639733, 9391790.395323781, 9398484.614880228, 9393093.894736443, 9427202.810335344, 9427329.292985164, 9391204.83861061, 9425333.482512647, 9404526.419843508, 9405724.620738028, 9411031.09044967]\n",
            "rmse for 20 epochs: \n",
            "[0.9434893632567722, 0.925432693190332, 0.9199567717566584, 0.9122981504152224, 0.903234557214911, 0.8973275500958287, 0.8929230078783399, 0.8904309187340224, 0.8882593815482384, 0.8883838255426644, 0.8876957488351542, 0.8871527350000343, 0.8873076145256764, 0.8878779076023053, 0.8884063512687438, 0.8890937054910478, 0.8908676132758594, 0.8916683876232177, 0.8927170918146021, 0.8938678114729123]\n"
          ]
        }
      ]
    },
    {
      "cell_type": "code",
      "source": [
        "import math\n",
        "mf = MF_modified(train_mat, test_mat, latent=4, lr=0.01, reg=0.002)\n",
        "epoch_loss_list, epoch_test_RMSE_list = mf.train(epoch=20)"
      ],
      "metadata": {
        "colab": {
          "base_uri": "https://localhost:8080/"
        },
        "id": "kMcnwZXysS5e",
        "outputId": "26ecaf4e-8398-40c1-fd6a-60710b13f154"
      },
      "execution_count": null,
      "outputs": [
        {
          "output_type": "stream",
          "name": "stdout",
          "text": [
            "Epoch 1 : loss = 598370.3895762174 , rmse = 0.9443114525658064\n",
            "Epoch 2 : loss = 566373.690667424 , rmse = 0.9247811243523975\n",
            "Epoch 3 : loss = 548442.864243782 , rmse = 0.9164048561547571\n",
            "Epoch 4 : loss = 528432.2866897485 , rmse = 0.9066622861633271\n",
            "Epoch 5 : loss = 513481.75680735544 , rmse = 0.8994659675345581\n",
            "Epoch 6 : loss = 503561.6918917885 , rmse = 0.8949140560917408\n",
            "Epoch 7 : loss = 495977.8625992246 , rmse = 0.8919542200418472\n",
            "Epoch 8 : loss = 490472.13362762675 , rmse = 0.89041426803634\n",
            "Epoch 9 : loss = 486216.59085244936 , rmse = 0.8894012006731994\n",
            "Epoch 10 : loss = 483657.08420980314 , rmse = 0.8888063700486126\n",
            "Epoch 11 : loss = 480247.4090571604 , rmse = 0.8879490623735417\n",
            "Epoch 12 : loss = 478665.4524296225 , rmse = 0.8876422653629985\n",
            "Epoch 13 : loss = 476665.6383468526 , rmse = 0.8869198511954073\n",
            "Epoch 14 : loss = 476370.5347436142 , rmse = 0.8881890157493023\n",
            "Epoch 15 : loss = 474280.0222056195 , rmse = 0.8874685748267862\n",
            "Epoch 16 : loss = 474122.3700474144 , rmse = 0.8877787356085218\n",
            "Epoch 17 : loss = 473473.1630020215 , rmse = 0.888888073804225\n",
            "Epoch 18 : loss = 473912.4622980556 , rmse = 0.888966440499322\n",
            "Epoch 19 : loss = 473578.3304188106 , rmse = 0.8887367595854216\n",
            "Epoch 20 : loss = 474151.6493378578 , rmse = 0.8902693223110629\n"
          ]
        }
      ]
    },
    {
      "cell_type": "markdown",
      "source": [
        "And please briefly explain what your new model does to improve the performance."
      ],
      "metadata": {
        "id": "inSUB3a60RMW"
      }
    },
    {
      "cell_type": "markdown",
      "source": [
        "I tried to add bias to the prediction to improve the MF model performance. Performance improved from 0.90 to 0.89."
      ],
      "metadata": {
        "id": "R38z2kSY0R7O"
      }
    }
  ]
}